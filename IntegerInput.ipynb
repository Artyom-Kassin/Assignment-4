{
 "cells": [
  {
   "cell_type": "code",
   "execution_count": 41,
   "id": "e0a03561",
   "metadata": {},
   "outputs": [
    {
     "name": "stdout",
     "output_type": "stream",
     "text": [
      "Please, provide an integer input: 7.5\n",
      "Unpeacefully converted to integer!\n"
     ]
    }
   ],
   "source": [
    "try:\n",
    "    n = input(\"Please, provide an integer input: \")\n",
    "    n = int(n)\n",
    "except ValueError:\n",
    "    print(\"Unpeacefully converted to integer!\")\n",
    "else:\n",
    "    print(\"The result if the operation is successful!\")"
   ]
  },
  {
   "cell_type": "code",
   "execution_count": null,
   "id": "8fea9664",
   "metadata": {},
   "outputs": [],
   "source": []
  },
  {
   "cell_type": "code",
   "execution_count": null,
   "id": "a820c6ad",
   "metadata": {},
   "outputs": [],
   "source": []
  },
  {
   "cell_type": "code",
   "execution_count": null,
   "id": "f65151d1",
   "metadata": {},
   "outputs": [],
   "source": []
  }
 ],
 "metadata": {
  "kernelspec": {
   "display_name": "Python 3 (ipykernel)",
   "language": "python",
   "name": "python3"
  },
  "language_info": {
   "codemirror_mode": {
    "name": "ipython",
    "version": 3
   },
   "file_extension": ".py",
   "mimetype": "text/x-python",
   "name": "python",
   "nbconvert_exporter": "python",
   "pygments_lexer": "ipython3",
   "version": "3.9.7"
  }
 },
 "nbformat": 4,
 "nbformat_minor": 5
}
